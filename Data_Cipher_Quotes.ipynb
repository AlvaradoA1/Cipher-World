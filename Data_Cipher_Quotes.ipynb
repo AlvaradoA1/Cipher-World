{
 "cells": [
  {
   "cell_type": "code",
   "execution_count": 1,
   "id": "58073783-bd9d-4edc-be6c-549437fa21ab",
   "metadata": {},
   "outputs": [],
   "source": [
    "import pandas as pd"
   ]
  },
  {
   "cell_type": "code",
   "execution_count": 2,
   "id": "4d65e6ea-5285-4342-8bca-575f6a8ba04a",
   "metadata": {},
   "outputs": [],
   "source": [
    "data = pd.read_csv(r'C:\\Users\\Julis\\Downloads\\quotes.csv', delimiter = ',')"
   ]
  },
  {
   "cell_type": "code",
   "execution_count": 3,
   "id": "b0eeafa2-ebeb-4734-9867-50bba0808ec8",
   "metadata": {},
   "outputs": [
    {
     "data": {
      "text/html": [
       "<div>\n",
       "<style scoped>\n",
       "    .dataframe tbody tr th:only-of-type {\n",
       "        vertical-align: middle;\n",
       "    }\n",
       "\n",
       "    .dataframe tbody tr th {\n",
       "        vertical-align: top;\n",
       "    }\n",
       "\n",
       "    .dataframe thead th {\n",
       "        text-align: right;\n",
       "    }\n",
       "</style>\n",
       "<table border=\"1\" class=\"dataframe\">\n",
       "  <thead>\n",
       "    <tr style=\"text-align: right;\">\n",
       "      <th></th>\n",
       "      <th>quote</th>\n",
       "      <th>author</th>\n",
       "      <th>category</th>\n",
       "    </tr>\n",
       "  </thead>\n",
       "  <tbody>\n",
       "    <tr>\n",
       "      <th>0</th>\n",
       "      <td>I'm selfish, impatient and a little insecure. ...</td>\n",
       "      <td>Marilyn Monroe</td>\n",
       "      <td>attributed-no-source, best, life, love, mistak...</td>\n",
       "    </tr>\n",
       "    <tr>\n",
       "      <th>1</th>\n",
       "      <td>You've gotta dance like there's nobody watchin...</td>\n",
       "      <td>William W. Purkey</td>\n",
       "      <td>dance, heaven, hurt, inspirational, life, love...</td>\n",
       "    </tr>\n",
       "    <tr>\n",
       "      <th>2</th>\n",
       "      <td>You know you're in love when you can't fall as...</td>\n",
       "      <td>Dr. Seuss</td>\n",
       "      <td>attributed-no-source, dreams, love, reality, s...</td>\n",
       "    </tr>\n",
       "    <tr>\n",
       "      <th>3</th>\n",
       "      <td>A friend is someone who knows all about you an...</td>\n",
       "      <td>Elbert Hubbard</td>\n",
       "      <td>friend, friendship, knowledge, love</td>\n",
       "    </tr>\n",
       "    <tr>\n",
       "      <th>4</th>\n",
       "      <td>Darkness cannot drive out darkness: only light...</td>\n",
       "      <td>Martin Luther King Jr., A Testament of Hope: T...</td>\n",
       "      <td>darkness, drive-out, hate, inspirational, ligh...</td>\n",
       "    </tr>\n",
       "  </tbody>\n",
       "</table>\n",
       "</div>"
      ],
      "text/plain": [
       "                                               quote  \\\n",
       "0  I'm selfish, impatient and a little insecure. ...   \n",
       "1  You've gotta dance like there's nobody watchin...   \n",
       "2  You know you're in love when you can't fall as...   \n",
       "3  A friend is someone who knows all about you an...   \n",
       "4  Darkness cannot drive out darkness: only light...   \n",
       "\n",
       "                                              author  \\\n",
       "0                                     Marilyn Monroe   \n",
       "1                                  William W. Purkey   \n",
       "2                                          Dr. Seuss   \n",
       "3                                     Elbert Hubbard   \n",
       "4  Martin Luther King Jr., A Testament of Hope: T...   \n",
       "\n",
       "                                            category  \n",
       "0  attributed-no-source, best, life, love, mistak...  \n",
       "1  dance, heaven, hurt, inspirational, life, love...  \n",
       "2  attributed-no-source, dreams, love, reality, s...  \n",
       "3                friend, friendship, knowledge, love  \n",
       "4  darkness, drive-out, hate, inspirational, ligh...  "
      ]
     },
     "execution_count": 3,
     "metadata": {},
     "output_type": "execute_result"
    }
   ],
   "source": [
    "data.head()"
   ]
  },
  {
   "cell_type": "code",
   "execution_count": 4,
   "id": "32229c14-e239-4059-ba4a-c37d3647ba73",
   "metadata": {},
   "outputs": [],
   "source": [
    "data['quote'] = data['quote'].astype('str')\n",
    "mask = (data['quote'].str.len() > 48)\n",
    "mask2 =(data['quote'].str.len() < 90)\n",
    "data2 = data.loc[mask]\n",
    "data2 = data.loc[mask2]"
   ]
  },
  {
   "cell_type": "code",
   "execution_count": 5,
   "id": "88c3bbb9-f407-40d4-9d6a-1f5cf942699c",
   "metadata": {},
   "outputs": [],
   "source": [
    "data2 = data2[['quote']]\n"
   ]
  },
  {
   "cell_type": "code",
   "execution_count": 6,
   "id": "8b7af235-d350-45ec-9b25-9cf4dbd70c85",
   "metadata": {},
   "outputs": [
    {
     "data": {
      "text/html": [
       "<div>\n",
       "<style scoped>\n",
       "    .dataframe tbody tr th:only-of-type {\n",
       "        vertical-align: middle;\n",
       "    }\n",
       "\n",
       "    .dataframe tbody tr th {\n",
       "        vertical-align: top;\n",
       "    }\n",
       "\n",
       "    .dataframe thead th {\n",
       "        text-align: right;\n",
       "    }\n",
       "</style>\n",
       "<table border=\"1\" class=\"dataframe\">\n",
       "  <thead>\n",
       "    <tr style=\"text-align: right;\">\n",
       "      <th></th>\n",
       "      <th>quote</th>\n",
       "    </tr>\n",
       "  </thead>\n",
       "  <tbody>\n",
       "    <tr>\n",
       "      <th>3</th>\n",
       "      <td>A friend is someone who knows all about you an...</td>\n",
       "    </tr>\n",
       "    <tr>\n",
       "      <th>5</th>\n",
       "      <td>We accept the love we think we deserve.</td>\n",
       "    </tr>\n",
       "    <tr>\n",
       "      <th>7</th>\n",
       "      <td>It is better to be hated for what you are than...</td>\n",
       "    </tr>\n",
       "    <tr>\n",
       "      <th>8</th>\n",
       "      <td>As he read, I fell in love the way you fall as...</td>\n",
       "    </tr>\n",
       "    <tr>\n",
       "      <th>10</th>\n",
       "      <td>It is not a lack of love, but a lack of friend...</td>\n",
       "    </tr>\n",
       "  </tbody>\n",
       "</table>\n",
       "</div>"
      ],
      "text/plain": [
       "                                                quote\n",
       "3   A friend is someone who knows all about you an...\n",
       "5             We accept the love we think we deserve.\n",
       "7   It is better to be hated for what you are than...\n",
       "8   As he read, I fell in love the way you fall as...\n",
       "10  It is not a lack of love, but a lack of friend..."
      ]
     },
     "execution_count": 6,
     "metadata": {},
     "output_type": "execute_result"
    }
   ],
   "source": [
    "data2.head()"
   ]
  },
  {
   "cell_type": "code",
   "execution_count": 7,
   "id": "b2c5c33a-94be-4c96-9115-928f067c64c6",
   "metadata": {},
   "outputs": [],
   "source": [
    "data2['quote'] = data2['quote'].str.upper()"
   ]
  },
  {
   "cell_type": "code",
   "execution_count": 8,
   "id": "72f838df-9b6c-4218-94c9-4f6ded92e9ba",
   "metadata": {},
   "outputs": [
    {
     "data": {
      "text/html": [
       "<div>\n",
       "<style scoped>\n",
       "    .dataframe tbody tr th:only-of-type {\n",
       "        vertical-align: middle;\n",
       "    }\n",
       "\n",
       "    .dataframe tbody tr th {\n",
       "        vertical-align: top;\n",
       "    }\n",
       "\n",
       "    .dataframe thead th {\n",
       "        text-align: right;\n",
       "    }\n",
       "</style>\n",
       "<table border=\"1\" class=\"dataframe\">\n",
       "  <thead>\n",
       "    <tr style=\"text-align: right;\">\n",
       "      <th></th>\n",
       "      <th>quote</th>\n",
       "    </tr>\n",
       "  </thead>\n",
       "  <tbody>\n",
       "    <tr>\n",
       "      <th>3</th>\n",
       "      <td>A FRIEND IS SOMEONE WHO KNOWS ALL ABOUT YOU AN...</td>\n",
       "    </tr>\n",
       "    <tr>\n",
       "      <th>5</th>\n",
       "      <td>WE ACCEPT THE LOVE WE THINK WE DESERVE.</td>\n",
       "    </tr>\n",
       "    <tr>\n",
       "      <th>7</th>\n",
       "      <td>IT IS BETTER TO BE HATED FOR WHAT YOU ARE THAN...</td>\n",
       "    </tr>\n",
       "    <tr>\n",
       "      <th>8</th>\n",
       "      <td>AS HE READ, I FELL IN LOVE THE WAY YOU FALL AS...</td>\n",
       "    </tr>\n",
       "    <tr>\n",
       "      <th>10</th>\n",
       "      <td>IT IS NOT A LACK OF LOVE, BUT A LACK OF FRIEND...</td>\n",
       "    </tr>\n",
       "    <tr>\n",
       "      <th>...</th>\n",
       "      <td>...</td>\n",
       "    </tr>\n",
       "    <tr>\n",
       "      <th>499700</th>\n",
       "      <td>WE ALL HAVE A COMMON GOAL, AND WE KNOW IT'S AL...</td>\n",
       "    </tr>\n",
       "    <tr>\n",
       "      <th>499702</th>\n",
       "      <td>THE FUTURE ISN'T JUST A PLACE YOU'LL GO. IT'S ...</td>\n",
       "    </tr>\n",
       "    <tr>\n",
       "      <th>499703</th>\n",
       "      <td>THE CHRISTIAN OF THE FUTURE WILL BE A MYSTIC O...</td>\n",
       "    </tr>\n",
       "    <tr>\n",
       "      <th>499706</th>\n",
       "      <td>THE FUTURE IS NOW.</td>\n",
       "    </tr>\n",
       "    <tr>\n",
       "      <th>499708</th>\n",
       "      <td>THE FUTURE IS AS BRIGHT AS THE PROMISES OF GOD.</td>\n",
       "    </tr>\n",
       "  </tbody>\n",
       "</table>\n",
       "<p>166437 rows × 1 columns</p>\n",
       "</div>"
      ],
      "text/plain": [
       "                                                    quote\n",
       "3       A FRIEND IS SOMEONE WHO KNOWS ALL ABOUT YOU AN...\n",
       "5                 WE ACCEPT THE LOVE WE THINK WE DESERVE.\n",
       "7       IT IS BETTER TO BE HATED FOR WHAT YOU ARE THAN...\n",
       "8       AS HE READ, I FELL IN LOVE THE WAY YOU FALL AS...\n",
       "10      IT IS NOT A LACK OF LOVE, BUT A LACK OF FRIEND...\n",
       "...                                                   ...\n",
       "499700  WE ALL HAVE A COMMON GOAL, AND WE KNOW IT'S AL...\n",
       "499702  THE FUTURE ISN'T JUST A PLACE YOU'LL GO. IT'S ...\n",
       "499703  THE CHRISTIAN OF THE FUTURE WILL BE A MYSTIC O...\n",
       "499706                                 THE FUTURE IS NOW.\n",
       "499708    THE FUTURE IS AS BRIGHT AS THE PROMISES OF GOD.\n",
       "\n",
       "[166437 rows x 1 columns]"
      ]
     },
     "execution_count": 8,
     "metadata": {},
     "output_type": "execute_result"
    }
   ],
   "source": [
    "data2"
   ]
  },
  {
   "cell_type": "code",
   "execution_count": 9,
   "id": "6d187c9a-10b0-4d91-a798-896047a7e5ca",
   "metadata": {},
   "outputs": [
    {
     "data": {
      "text/plain": [
       "pandas.core.frame.DataFrame"
      ]
     },
     "execution_count": 9,
     "metadata": {},
     "output_type": "execute_result"
    }
   ],
   "source": [
    "type(data2)"
   ]
  },
  {
   "cell_type": "code",
   "execution_count": 10,
   "id": "fb16ad78-e05d-41b3-a57e-9f6e964757a3",
   "metadata": {},
   "outputs": [
    {
     "data": {
      "text/html": [
       "<div>\n",
       "<style scoped>\n",
       "    .dataframe tbody tr th:only-of-type {\n",
       "        vertical-align: middle;\n",
       "    }\n",
       "\n",
       "    .dataframe tbody tr th {\n",
       "        vertical-align: top;\n",
       "    }\n",
       "\n",
       "    .dataframe thead th {\n",
       "        text-align: right;\n",
       "    }\n",
       "</style>\n",
       "<table border=\"1\" class=\"dataframe\">\n",
       "  <thead>\n",
       "    <tr style=\"text-align: right;\">\n",
       "      <th></th>\n",
       "      <th>quote</th>\n",
       "    </tr>\n",
       "  </thead>\n",
       "  <tbody>\n",
       "    <tr>\n",
       "      <th>3</th>\n",
       "      <td>A FRIEND IS SOMEONE WHO KNOWS ALL ABOUT YOU AN...</td>\n",
       "    </tr>\n",
       "    <tr>\n",
       "      <th>5</th>\n",
       "      <td>WE ACCEPT THE LOVE WE THINK WE DESERVE.</td>\n",
       "    </tr>\n",
       "    <tr>\n",
       "      <th>7</th>\n",
       "      <td>IT IS BETTER TO BE HATED FOR WHAT YOU ARE THAN...</td>\n",
       "    </tr>\n",
       "    <tr>\n",
       "      <th>17</th>\n",
       "      <td>LOVE IS THAT CONDITION IN WHICH THE HAPPINESS ...</td>\n",
       "    </tr>\n",
       "    <tr>\n",
       "      <th>36</th>\n",
       "      <td>TO DIE WILL BE AN AWFULLY BIG ADVENTURE.</td>\n",
       "    </tr>\n",
       "    <tr>\n",
       "      <th>...</th>\n",
       "      <td>...</td>\n",
       "    </tr>\n",
       "    <tr>\n",
       "      <th>499693</th>\n",
       "      <td>WE GROW IN TIME TO TRUST THE FUTURE FOR OUR AN...</td>\n",
       "    </tr>\n",
       "    <tr>\n",
       "      <th>499702</th>\n",
       "      <td>THE FUTURE ISN'T JUST A PLACE YOU'LL GO. IT'S ...</td>\n",
       "    </tr>\n",
       "    <tr>\n",
       "      <th>499703</th>\n",
       "      <td>THE CHRISTIAN OF THE FUTURE WILL BE A MYSTIC O...</td>\n",
       "    </tr>\n",
       "    <tr>\n",
       "      <th>499706</th>\n",
       "      <td>THE FUTURE IS NOW.</td>\n",
       "    </tr>\n",
       "    <tr>\n",
       "      <th>499708</th>\n",
       "      <td>THE FUTURE IS AS BRIGHT AS THE PROMISES OF GOD.</td>\n",
       "    </tr>\n",
       "  </tbody>\n",
       "</table>\n",
       "<p>116877 rows × 1 columns</p>\n",
       "</div>"
      ],
      "text/plain": [
       "                                                    quote\n",
       "3       A FRIEND IS SOMEONE WHO KNOWS ALL ABOUT YOU AN...\n",
       "5                 WE ACCEPT THE LOVE WE THINK WE DESERVE.\n",
       "7       IT IS BETTER TO BE HATED FOR WHAT YOU ARE THAN...\n",
       "17      LOVE IS THAT CONDITION IN WHICH THE HAPPINESS ...\n",
       "36               TO DIE WILL BE AN AWFULLY BIG ADVENTURE.\n",
       "...                                                   ...\n",
       "499693  WE GROW IN TIME TO TRUST THE FUTURE FOR OUR AN...\n",
       "499702  THE FUTURE ISN'T JUST A PLACE YOU'LL GO. IT'S ...\n",
       "499703  THE CHRISTIAN OF THE FUTURE WILL BE A MYSTIC O...\n",
       "499706                                 THE FUTURE IS NOW.\n",
       "499708    THE FUTURE IS AS BRIGHT AS THE PROMISES OF GOD.\n",
       "\n",
       "[116877 rows x 1 columns]"
      ]
     },
     "execution_count": 10,
     "metadata": {},
     "output_type": "execute_result"
    }
   ],
   "source": [
    "discard = [\",\"]\n",
    "data2[~data2.quote.str.contains('|'.join(discard))]"
   ]
  },
  {
   "cell_type": "code",
   "execution_count": 11,
   "id": "79f88a0f-e771-4ce7-bbde-c8b65c319508",
   "metadata": {},
   "outputs": [],
   "source": [
    "# print(data2['quote'].iloc[1])"
   ]
  },
  {
   "cell_type": "code",
   "execution_count": 12,
   "id": "1a6599f2-c597-4457-903b-1f73d3521777",
   "metadata": {},
   "outputs": [
    {
     "data": {
      "text/html": [
       "<div>\n",
       "<style scoped>\n",
       "    .dataframe tbody tr th:only-of-type {\n",
       "        vertical-align: middle;\n",
       "    }\n",
       "\n",
       "    .dataframe tbody tr th {\n",
       "        vertical-align: top;\n",
       "    }\n",
       "\n",
       "    .dataframe thead th {\n",
       "        text-align: right;\n",
       "    }\n",
       "</style>\n",
       "<table border=\"1\" class=\"dataframe\">\n",
       "  <thead>\n",
       "    <tr style=\"text-align: right;\">\n",
       "      <th></th>\n",
       "      <th>quote</th>\n",
       "    </tr>\n",
       "  </thead>\n",
       "  <tbody>\n",
       "    <tr>\n",
       "      <th>3</th>\n",
       "      <td>A FRIEND IS SOMEONE WHO KNOWS ALL ABOUT YOU AN...</td>\n",
       "    </tr>\n",
       "    <tr>\n",
       "      <th>5</th>\n",
       "      <td>WE ACCEPT THE LOVE WE THINK WE DESERVE.</td>\n",
       "    </tr>\n",
       "    <tr>\n",
       "      <th>7</th>\n",
       "      <td>IT IS BETTER TO BE HATED FOR WHAT YOU ARE THAN...</td>\n",
       "    </tr>\n",
       "    <tr>\n",
       "      <th>8</th>\n",
       "      <td>AS HE READ, I FELL IN LOVE THE WAY YOU FALL AS...</td>\n",
       "    </tr>\n",
       "    <tr>\n",
       "      <th>10</th>\n",
       "      <td>IT IS NOT A LACK OF LOVE, BUT A LACK OF FRIEND...</td>\n",
       "    </tr>\n",
       "    <tr>\n",
       "      <th>...</th>\n",
       "      <td>...</td>\n",
       "    </tr>\n",
       "    <tr>\n",
       "      <th>499700</th>\n",
       "      <td>WE ALL HAVE A COMMON GOAL, AND WE KNOW IT'S AL...</td>\n",
       "    </tr>\n",
       "    <tr>\n",
       "      <th>499702</th>\n",
       "      <td>THE FUTURE ISN'T JUST A PLACE YOU'LL GO. IT'S ...</td>\n",
       "    </tr>\n",
       "    <tr>\n",
       "      <th>499703</th>\n",
       "      <td>THE CHRISTIAN OF THE FUTURE WILL BE A MYSTIC O...</td>\n",
       "    </tr>\n",
       "    <tr>\n",
       "      <th>499706</th>\n",
       "      <td>THE FUTURE IS NOW.</td>\n",
       "    </tr>\n",
       "    <tr>\n",
       "      <th>499708</th>\n",
       "      <td>THE FUTURE IS AS BRIGHT AS THE PROMISES OF GOD.</td>\n",
       "    </tr>\n",
       "  </tbody>\n",
       "</table>\n",
       "<p>166437 rows × 1 columns</p>\n",
       "</div>"
      ],
      "text/plain": [
       "                                                    quote\n",
       "3       A FRIEND IS SOMEONE WHO KNOWS ALL ABOUT YOU AN...\n",
       "5                 WE ACCEPT THE LOVE WE THINK WE DESERVE.\n",
       "7       IT IS BETTER TO BE HATED FOR WHAT YOU ARE THAN...\n",
       "8       AS HE READ, I FELL IN LOVE THE WAY YOU FALL AS...\n",
       "10      IT IS NOT A LACK OF LOVE, BUT A LACK OF FRIEND...\n",
       "...                                                   ...\n",
       "499700  WE ALL HAVE A COMMON GOAL, AND WE KNOW IT'S AL...\n",
       "499702  THE FUTURE ISN'T JUST A PLACE YOU'LL GO. IT'S ...\n",
       "499703  THE CHRISTIAN OF THE FUTURE WILL BE A MYSTIC O...\n",
       "499706                                 THE FUTURE IS NOW.\n",
       "499708    THE FUTURE IS AS BRIGHT AS THE PROMISES OF GOD.\n",
       "\n",
       "[166437 rows x 1 columns]"
      ]
     },
     "execution_count": 12,
     "metadata": {},
     "output_type": "execute_result"
    }
   ],
   "source": [
    "discard1 = [\"   \"]\n",
    "data2[~data2.quote.str.contains('|'.join(discard1))]"
   ]
  },
  {
   "cell_type": "code",
   "execution_count": 13,
   "id": "21fd1082-5530-4bcc-a97c-52dff75d6f6f",
   "metadata": {},
   "outputs": [],
   "source": [
    "\n",
    "data2 = data2[~data2['quote'].str.contains('%?%')]"
   ]
  },
  {
   "cell_type": "code",
   "execution_count": 14,
   "id": "44d3a2b0-3cfd-4373-89b0-ed4de7eb675c",
   "metadata": {},
   "outputs": [],
   "source": [
    "data2 = data2[~data2['quote'].str.contains('%‘%')]"
   ]
  },
  {
   "cell_type": "code",
   "execution_count": 15,
   "id": "f7ac32e8-dfc7-4c83-8329-4845ceca0a51",
   "metadata": {},
   "outputs": [],
   "source": [
    "data2 = data2[~data2['quote'].str.contains('%…%')]"
   ]
  },
  {
   "cell_type": "code",
   "execution_count": 16,
   "id": "5ea83944-b68e-4d57-bc50-d7640917bc5b",
   "metadata": {},
   "outputs": [],
   "source": [
    "data2 = data2[~data2['quote'].str.contains('%‎%')]"
   ]
  },
  {
   "cell_type": "code",
   "execution_count": 17,
   "id": "a3c06505-5713-4879-85cb-f568aac2e35a",
   "metadata": {},
   "outputs": [],
   "source": [
    "data2 = data2[~data2['quote'].str.contains('%“%')]"
   ]
  },
  {
   "cell_type": "code",
   "execution_count": 18,
   "id": "396782dc-864b-4127-a8aa-a2c131b0b4b0",
   "metadata": {},
   "outputs": [],
   "source": [
    "data2 = data2[~data2['quote'].str.contains('%”%')]"
   ]
  },
  {
   "cell_type": "code",
   "execution_count": 19,
   "id": "22287277-eab8-43ed-95e0-71e4915d330d",
   "metadata": {},
   "outputs": [],
   "source": [
    "data2 = data2[~data2['quote'].str.contains('%’%')]"
   ]
  },
  {
   "cell_type": "code",
   "execution_count": 20,
   "id": "ca6d0cd2-0072-4a83-b9cf-6df6d8c7f417",
   "metadata": {},
   "outputs": [],
   "source": [
    "#discard = [\"?\"]\n",
    "#data2[~data2.quote.str.contains('|'.join(discard))]"
   ]
  },
  {
   "cell_type": "code",
   "execution_count": 21,
   "id": "edf5767e-6afd-43a1-82fe-8fc34fd4114b",
   "metadata": {},
   "outputs": [
    {
     "name": "stderr",
     "output_type": "stream",
     "text": [
      "C:\\Users\\Julis\\AppData\\Local\\Temp\\ipykernel_9380\\508632980.py:1: FutureWarning: The default value of regex will change from True to False in a future version.\n",
      "  data2['quote'] = data2['quote'].str.replace(r'[^\\w\\s]+','')\n"
     ]
    }
   ],
   "source": [
    "data2['quote'] = data2['quote'].str.replace(r'[^\\w\\s]+','')"
   ]
  },
  {
   "cell_type": "code",
   "execution_count": 22,
   "id": "1330e594-bd65-48d5-9267-e76277b89ddb",
   "metadata": {},
   "outputs": [],
   "source": [
    "data2 = data2.sample(n = 50)"
   ]
  },
  {
   "cell_type": "code",
   "execution_count": 23,
   "id": "96172773-411c-4c70-98c0-885c66569cb2",
   "metadata": {},
   "outputs": [
    {
     "data": {
      "text/html": [
       "<div>\n",
       "<style scoped>\n",
       "    .dataframe tbody tr th:only-of-type {\n",
       "        vertical-align: middle;\n",
       "    }\n",
       "\n",
       "    .dataframe tbody tr th {\n",
       "        vertical-align: top;\n",
       "    }\n",
       "\n",
       "    .dataframe thead th {\n",
       "        text-align: right;\n",
       "    }\n",
       "</style>\n",
       "<table border=\"1\" class=\"dataframe\">\n",
       "  <thead>\n",
       "    <tr style=\"text-align: right;\">\n",
       "      <th></th>\n",
       "      <th>quote</th>\n",
       "    </tr>\n",
       "  </thead>\n",
       "  <tbody>\n",
       "    <tr>\n",
       "      <th>360839</th>\n",
       "      <td>WHILE OTHERS ARE BROADCASTING BE LISTENING</td>\n",
       "    </tr>\n",
       "    <tr>\n",
       "      <th>485933</th>\n",
       "      <td>I HAVE NO ONE TO LEAVE THE MONEY TO IM A SINGL...</td>\n",
       "    </tr>\n",
       "    <tr>\n",
       "      <th>92829</th>\n",
       "      <td>ART IS THE EFFORT TO APPRECIATE AND EXPRESS TH...</td>\n",
       "    </tr>\n",
       "    <tr>\n",
       "      <th>353482</th>\n",
       "      <td>INTUITION IS THE LIFEBLOOD OF A WOMAN AND THE ...</td>\n",
       "    </tr>\n",
       "    <tr>\n",
       "      <th>416094</th>\n",
       "      <td>NO MATTER WHERE I RUN  I MEET MYSELF THERE</td>\n",
       "    </tr>\n",
       "  </tbody>\n",
       "</table>\n",
       "</div>"
      ],
      "text/plain": [
       "                                                    quote\n",
       "360839         WHILE OTHERS ARE BROADCASTING BE LISTENING\n",
       "485933  I HAVE NO ONE TO LEAVE THE MONEY TO IM A SINGL...\n",
       "92829   ART IS THE EFFORT TO APPRECIATE AND EXPRESS TH...\n",
       "353482  INTUITION IS THE LIFEBLOOD OF A WOMAN AND THE ...\n",
       "416094         NO MATTER WHERE I RUN  I MEET MYSELF THERE"
      ]
     },
     "execution_count": 23,
     "metadata": {},
     "output_type": "execute_result"
    }
   ],
   "source": [
    "data2.head()"
   ]
  },
  {
   "cell_type": "code",
   "execution_count": 24,
   "id": "c5b94092-f079-4c83-9764-dbf9eda64f6e",
   "metadata": {},
   "outputs": [],
   "source": [
    "data2.to_csv(r'C:\\Users\\Julis\\Downloads\\data.csv', index=False)"
   ]
  },
  {
   "cell_type": "code",
   "execution_count": 23,
   "id": "b92957a9-6fa8-442b-8fe0-122f1e51bc54",
   "metadata": {},
   "outputs": [],
   "source": [
    "#quote_list = data2[\"quote\"].values.tolist()"
   ]
  },
  {
   "cell_type": "code",
   "execution_count": 24,
   "id": "730f2e08-583d-4e32-87d6-fc4d121174d2",
   "metadata": {},
   "outputs": [
    {
     "name": "stdout",
     "output_type": "stream",
     "text": [
      "IF YOU DON'T KEEP TRACK OF GREAT IDEAS, YOU'LL STOP NOTICING YOU HAVE THEM.\n"
     ]
    }
   ],
   "source": [
    "#print(quote_list[0])"
   ]
  },
  {
   "cell_type": "code",
   "execution_count": 25,
   "id": "35679de5-547c-403d-9797-f16190a85360",
   "metadata": {},
   "outputs": [
    {
     "data": {
      "text/plain": [
       "300"
      ]
     },
     "execution_count": 25,
     "metadata": {},
     "output_type": "execute_result"
    }
   ],
   "source": [
    "#len(quote_list)"
   ]
  },
  {
   "cell_type": "code",
   "execution_count": 26,
   "id": "decec91f-f7fd-4125-b90e-ab96550e09d6",
   "metadata": {},
   "outputs": [],
   "source": [
    "#import json\n",
    "#data = {'x': quote_list}\n",
    "\n",
    "#with open(\"output.json\", \"w\") as f:\n",
    "#    json.dump(data, f)"
   ]
  },
  {
   "cell_type": "code",
   "execution_count": 27,
   "id": "b186432c-5805-4260-8bd4-8f3a527bc6f2",
   "metadata": {},
   "outputs": [
    {
     "data": {
      "text/plain": [
       "'{\"x\": [\"IF YOU DON\\'T KEEP TRACK OF GREAT IDEAS, YOU\\'LL STOP NOTICING YOU HAVE THEM.\", \"LIFE  I FANCY  WOULD VERY OFTEN BE INSUPPORTABLE  BUT FOR THE LUXURY OF SELF-COMPASSION.\", \"THE SECRET OF REMAINING YOUNG IS NEVER TO HAVE AN EMOTION THAT IS UNBECOMING.\", \"SHE\\'S TOO YOUNG FOR MEDICARE AND TOO OLD FOR ME TO CARE.\", \"CREATE YOUR OWN MIRACLES\", \"HIS EYES ARE SO CLEAR AND BLUE THAT NOTHING BUT CLICH\\\\u00c9S ENTER MY MIND.\", \"FEELINGS DO NOT ALWAYS DETERMINE TRUTH, BUT THEY CAN SOMETIMES TELL YOU WHAT IS TRUE.\", \"THINGS ARE NOT AS THEY APPEAR.\", \"YEAH, YOU\\'RE A REGULAR MOZART...WELL, EXCEPT FOR THE WHOLE MUSIC THING.\", \"IN AMERICA, WE KNOW TO IGNORE ARTISTS IF THEY\\'RE SERIOUS IN ANY WAY.\", \"SOMETIMES IT MAKES ME SAD THAT I DIDN\\'T GET TO HAVE ONE FAMILY FOR MY ENTIRE LIFE.\", \"A GREAT SECRET OF SUCCESS IS TO GO THROUGH LIFE AS A MAN WHO NEVER GETS USED UP.\", \"SHE HAD TO REMEMBER NOT TO LOOK AT HIM WHEN HE SMILED LIKE THAT.\", \"I HAVE A NEW MANTRA, WHICH I CHANT SOFTLY TO MYSELF: \\\\\"OH MY GOD OH MY GOD.\", \"MARRIAGE IS A ROMANCE IN WHICH THE HERO DIES IN THE FIRST CHAPTER.\", \"I WAS MADE TO RULE THE DARKNESS.\", \"KEEP WELL THAT IS THE HALF OF WISDOM AND OF HAPPINESS. \", \"WE MAY KILL EACH OTHER SOMEDAY.\", \"DON\\\\u2019T LET THE THINGS OF THE WORLD DISTRACT YOU. FOCUS ON YOUR PURPOSE\", \"HISTORIANS ARE GREAT GOSSIPS AT A HIGH LEVEL.\", \"WE\\'RE A TEAM LIKE TEA AND MILK, OR CAKE AND CUSTARD, OR PORK AND APPLE.\", \"SHE\\'S THE KIND OF GIRL WHO CLIMBED THE LADDER OF SUCCESS WRONG BY WRONG.\", \"AMMU\\'S TEARS MADE EVERYTHING THAT HAD SO FAR SEEMED UNREAL, REAL.\", \"IF PEOPLE READ POETRY, THEY WOULD BE HAPPIER.\", \"DO YOU HAVE SOME SORT OF ANTI-DERANGEMENT MEDICATION? IF SO, YOU MIGHT WISH TO TAKE IT.\", \"I CAN AND I WILL! JUST WATCH ME!\", \"ASKING IS THE BEGINNING OF RECEIVING.\", \"THE TROUBLE WITH BEING A GOD IS THAT YOU\\'VE GOT NO ONE TO PRAY TO.\", \"NO ONE HAS THE ABILITY TO LAUGH AT THEIR MISFORTUNES LIKE THE WOMEN OF THE EAST END.\", \"MILK IS THE ONLY JUICE IN A WORLD OF COWS.\", \"WIT IS THE LOWEST FORM OF HUMOR.\", \"HATRED NEEDS SCORN. SCORN IS HATRED\\'S NECTAR!\", \"IF YOU WANT TO LIVE A HAPPY LIFE, TIE IT TO A GOAL, NOT TO PEOPLE OR THINGS.\", \"A FRIEND OF MINE DEFINES PRAYER AS \\\\u201cA DECLARATION OF DEPENDENCE.\", \"ONE GLANCE OF THINE CREATES A DAY.\", \"DO NOT BE AFRAID OF WHAT SHOULD BE AFRAID OF YOU\", \"A BONUS: YOU DON\\'T HAVE TO DIET TO DIRECT.\", \"POWER CHANGES ITS APPEARANCE BUT NOT ITS REALITY.\", \"OH, HOW I WISH I WAS A WOMAN\\\\u2014HIS WOMAN.\", \"YES, ITS HARD TO WRITE. BUT ITS HARDER NOT TO.\", \"THE DEAD ARE PRACTICAL.\", \"I RESPECT ONLY THOSE WHO RESIST ME  BUT CANNOT TOLERATE THEM.\", \"LIBRARIANS ARE YOUR VERY BEST FRIEND. AND DON\\'T EVER THINK OTHERWISE.\", \"THE GIFT OF LIFE IS A TREASURE. SOME FILL IT WITH PRESSURE . . . SOME WITH PLEASURE!-RVM\", \"I EXIST IN THE PARADISE OF MY MIND.\", \"YOU CANNOT WRITE IN THE CHIMNEY WITH CHARCOAL.\", \"ARE YOU SERVING OTHERS OR YOUR ARE BEING SERVED BY OTHERS?\", \"WE LIVE AS IF LIFE WILL NEVER END.\", \"WEEKENDS ARE AN EMPLOYEE\\\\u2019S PAROLE.\", \"WE ARE SENTENCED TO DIE THE DAY WE ARE BORN.\", \"IF GOD DID NOT EXIST, IT WOULD BE NECESSARY TO INVENT HIM.\", \"HEALING REQUIRES A LEGITIMATED, CREDIBLE AND CULTURALLY APPROPRIATE SYSTEM.\", \"START WHERE YOU ARE. USE WHAT YOU HAVE. DO WHAT YOU CAN.\", \"BELIEVING WITHOUT QUESTIONING IS AN INSULT TO THE HUMAN CONSCIENCE.\", \"4 MINUTES IN AND THIS VIDEO HAS ALREADY GIVEN ME AN ERECTION\", \"IF WE COULD ALL HEAR ONE ANOTHER\\'S PRAYERS  GOD MIGHT BE RELIEVED OF SOME OF HIS BURDEN.\", \"WE ONLY GET ONE LIFE. WASTING SOMEONE\\\\u2019S TIME IS THE SUBTLEST FORM OF MURDER.\", \"MY SISTER IS TOTALLY MY DAD\\'S DAUGHTER BECAUSE SHE LOVES SPORTS.\", \"EVALUATE YOURSELF AND YOUR CALLING WORTHILY ENOUGH AND BE PROUD OF IT\", \"THE FRONTIERS ARE NOT EAST OR WEST  NORTH OR SOUTH  BUT WHEREVER A MAN FRONTS A FACT.\", \"OBEDIENCE, FORGIVENESS, AND DEVOTION ARE IN THE BLOOD OF EVERY VICTIM.\", \"IF THERE ARE NOT MOTHERS, WHERE WILL MEN COME FROM AND WHO WILL FEED THEM?\", \"LOVE OF GOD IS PURE WHEN JOY AND SUFFERING INSPIRE AN EQUAL DEGREE OF GRATITUDE.\", \"THE EYE SEES ONLY WHAT THE MIND IS PREPARED TO COMPREHEND.\", \"WISDOM IS ONE OF THE FEW THINGS THAT LOOKS BIGGER THE FURTHER AWAY IT IS.\", \"POSSIBILITIES LIES IN A DARING DREAM.\", \"THE GREATEST TEST OF COURAGE ON EARTH IS TO BEAR DEFEAT WITHOUT LOSING HEART.\", \"I AM A HOPELESS ROMANTIC.\", \"DEAR HEART, LOVE EVERYONE AND ANYONE. PLEASE MAKE ME NONJUDGMENTAL.\", \"KAFIR, YOU HAVE A VERY COMPLICATED PROBLEM WITH A VERY SIMPLE SOLUTION.\", \"THE LIMITS OF YOUR IMAGINATION CREATE THE BOUNDARIES OF YOUR WORLD.\", \"REMEMBER THAT YOU WERE BORN WITH ONLY LOVE AND HOPE\", \"I\\'VE NEVER WISHED A MAN DEAD, BUT I HAVE READ SOME OBITUARIES WITH GREAT PLEASURE.\", \"WHEN THE WHOLE WORLD IS CRAZY, IT DOESN\\'T PAY TO BE SANE.\", \"ONCE DURING PROHIBITION  I WAS FORCED TO LIVE FOR DAYS ON NOTHING BUT FOOD AND WATER.\", \"WE CAN\\'T ALL BE STARS BECAUSE SOMEONE HAS TO SIT ON THE CURB AND CLAP AS I GO BY.\", \"WHAT IS ACTUAL IS ACTUAL ONLY FOR ONE TIME  AND ONLY FOR ONE PLACE.\", \"LIFE IS ALWAYS GOOD, IF THOSE WHO ARE LIVING A ROUND YOU ARE HAPPY WITH WHAT\\'S GOING ON.\", \"THERE\\'S A BIG DIFFERENCE BETWEEN HATING SOMEONE IN PEACE AND HATING SOMEONE DURING WAR.\", \"ARRIVING AT ONE GOAL IS THE STARTING POINT TO ANOTHER.\", \"THE WHITE MAN\\'S HAPPINESS CANNOT BE PURCHASED BY THE BLACK MAN\\'S MISERY.\", \"HE GIVES TWICE WHO GIVES QUICKLY.\", \"A WRITER SEIZES EVERY OPPORTUNITY TO WONDER.\", \"YOU SEEK TO TORMENT. BUT I AM NOT A WITCH. TRIAL ME\", \"A WISE MIND MAKES A WISE HEART\", \"BEAUTIFUL PEOPLE DON\\'T NEED COATS. THEY\\'VE GOT THEIR AURAS TO KEEP THEM WARM.\", \"THE LAW TELLS ME HOW CROOKED I AM. GRACE COMES ALONG AND STRAIGHTENS ME OUT.\", \"TO THINK TOO LONG ABOUT DOING A THING OFTEN BECOMES ITS UNDOING.\", \"A WISE MANAGER KNOWS THAT IT IS SOMETIMES MORE IMPORTANT TO LISTEN THAN TO TALK.\", \"HERE I STAND. I CAN DO NO OTHER. GOD HELP ME. AMEN.\", \"YOU WILL NEVER BE SATISFIED UNTIL YOU ARE COMPLETELY SATISFIED WITH GOD.\", \"WHEN SHIT BECOMES VALUABLE, THE POOR WILL BE BORN WITHOUT ASSHOLES.\", \"A HATRED OF FAILURE HAS ALWAYS BEEN PART OF MY NATURE.\", \"GIFT THE CHILDREN CORRUPTION FREE NATION. HAPPY CHILDREN\\'S DAY.\", \"LET A SMILE BE YOUR UMBRELLA, AND YOU\\'LL END UP WITH A FACE FULL OF RAIN. \", \"IF YOU\\'RE STILL LIVING, YOU ARE YET! WINNING.\", \"DO GOOD.SPREAD LOVE.EMBRACE ALL.HURT NONE.\", \"LET IT GO TO LET IT BE.\", \"WHENEVER WE HEAR LAUGHTER, WE SENSE THE MAGIC AND THE BEAUTY OF BEING EXISTED!\", \"VERY FEW PEOPLE GO TO THE DOCTOR WHEN THEY HAVE A COLD  THEY GO TO THE THEATRE INSTEAD.\", \"ANTICIPATION IS FOREPLAY, AND...PAIN IS THE PUREST FORM OF PLEASURE\", \"I DON\\'T REALLY CARE HOW I AM REMEMBERED AS LONG AS I BRING HAPPINESS AND JOY TO PEOPLE.\", \"I\\'D RATHER BE LUCKY THAN GOOD.\", \"SEARCH NOT FOR HAPPINESS OUTSIDE YOURSELF, FOR NOTHING COULD BE FURTHER FROM THE TRUTH.\", \"BE CONFIDENT TO MAKE YOUR MAGIC.\", \"DO NOT WASTE YOUR LIFE WAITING FOR WINGS. TRUST THAT YOU CAN ALREADY FLY.\", \"LAST NIGHT I DREAMT THAT SOMEBODY LOVED ME.NO HOPE, NO HARM; JUST ANOTHER FALSE ALARM\", \"I LOVE LAS VEGAS BECAUSE IT\\'S THE ONE CITY LESS CLASSY THAN LOS ANGELES.\", \"...WHAT YOU\\'RE CALLING EVIL, IS PART OF HUMAN NATURE.\", \"AN EFFORT DISBURSED TO BECOME LIKE A GOD TAKES US CLOSER TOWARDS FINDING HIM.\", \"EACH DAY THE SUN KISSES THE EARTH GOODNIGHT YET NOW TWO SUNSETS ARE ALIKE\", \"THE WAY WE UTILIZE OUR TIME AS HUMANS DETERMINES WHO WE BECOME\", \"WHEN WE FILL OUR HEARTS WITH SELF-LOVE, WE KINDLE SPARKS OF COMPASSION ALL AROUND US.\", \"YOU COULDN\\'T LOSE, YOU WAS PLAYING MOZART\", \"THE FEET OF GHOSTS NEVER TOUCH THE GROUND.\", \"GOVERNMENT IS ALL SHOW WHEN IT ISN\\'T MURDER IN THE DARK ... OR SOLDIERS IN THE OPEN.\", \"IT IS NOT HOW MANY YEARS WE LIVE  BUT RATHER WHAT WE DO WITH THEM.\", \"SO BECKENDORF WAS PRETTY POPULAR?\\\\\" LEO ASKED. \\\\\"I MEAN-BEFORE HE BLEW UP?\", \"I TRY TO APPLY COLORS LIKE WORDS THAT SHAPE POEMS, LIKE NOTES THAT SHAPE MUSIC. \", \"BE DARING CURIOUS.\", \"DOUBT BIRTHS NEGATIVE CONFESSIONS\", \"HIS FINGERS HAVE BEEN SLOWLY LACING THROUGH MY HAIR.\", \"JUST WHEN WE THOUGHT EVERYTHING WAS GOING TO BE OKAY, WE ALL FELL APART.\", \"WHY SO MANY EAGER TO HEAR THE WORD OF \\\\u201cI LOVE YOU\\\\u201d AND SO FEW CARE TO SEE?\", \"EVERY ACTION TODAY WILL DEFINE THE FUTURE.\", \"WE WOULD OPPOSE THE TURNING OF THE PLANET AND REFUSE THE SETTING OF THE SUN.\", \"\\\\u2026FOR I LOOK UPON THE FRASERS TO BE ABOUT AS UNHAPPY AS MOST OTHER MARRIED PEOPLE.\", \"I PRETTY MUCH LOOK LIKE AN IDENTICAL TWIN OF MY MOM.\", \"THIS WAS THE NOBLEST ROMAN OF THEM ALL.\", \"90 TIMES TRUTH IS BEYOND EXPECTATIONS, 10 TIMES EXPECTATIONS BECOME TRUTH.\", \"LIFE IS ETERNAL AND, AT THE SAME TIME, EPHEMERAL.\", \"POETRY CREATES THE MYTH, THE PROSE WRITER DRAWS ITS PORTRAIT.\", \"I FELT THE SAME WAY THE WORLD FELT ABOUT KURTIS\", \"WHAT IS THE TEST OF GOOD MANNERS? BEING ABLE TO BEAR PATIENTLY WITH BAD ONES.\", \"WE ARE ALL ONLY MEN, DEFINED BY OUR CHOICES.\", \"IT WAS THE EXPERIENCE OF MYSTERY - EVEN IF MIXED WITH FEAR - THAT ENGENDERED RELIGION.\", \"WHEN YOU CANNOT DO WHAT YOU HAVE ALWAYS DONE, THEN YOU ONLY DO WHAT MATTERS MOST.\", \"BLESSED INDEED IS THE MAN WHO HEARS MANY GENTLE VOICES CALL HIM FATHER.\", \"MAY GOD DELIVER HUMANKIND FROM POWER OF DARKNESS INTO THE WONDERFUL LIGHT.\", \"I HAVE A GREAT NEED FOR CHRIST: I HAVE A GREAT CHRIST FOR MY NEED.\", \"I HOPE GAY MARRIAGE WILL BE LEGAL IN EVERY STATE.\", \"PEOPLE BECOME SO OBSESSED WITH THE FUTURE, THEY MAKE IT UP.\", \"YOU ONLY GET ONE CHANCE AT LIFE AND YOU HAVE TO GRAB IT BOLDLY.\", \"THE POWER OF WAITING IS GRACIOUS.\", \"MONEY CAN\\'T BUY LIFE.\", \"DO YOU WANT THIS TO BE A LOVE STORY?\", \"A MIND IS A TERRIBLE THING\", \"PEOPLE DO NOT COME TO HEAR WHAT I HAVE TO SAY\\\\u2014THEY WANT TO KNOW WHAT GOD HAS TO SAY.\", \"HER HAIR WAS FULL OF LIGHTS\", \"TO THE RIGHT PERSON YOU WILL BE EVERYTHING.\", \"GENEROSITY IS GIVING MORE THAN YOU CAN, AND PRIDE IS TAKING LESS THAN YOU NEED.\", \"LOVE IS FRIENDSHIP. LOVE IS HAPPINESS.\", \"YOU\\\\u2019RE CRAZY,\\\\u201d HE HISSES. \\\\u201cTOO TRUE.\", \"EVERY REIGN MUST SUBMIT TO A GREATER REIGN.\", \"IN A CRUEL WORLD KINDNESS IS CERTAINLY AN UNSAFE VIRTUE\", \"TO DECLARE MYSELF AS A GENIUS IMMEDIATELY EVIDENCES THAT I AM NOT.\", \"WHEN LOVE ENTERS YOUR HEART, HATE IS GIVEN AN EVICTION NOTICE.\", \"VISION WITHOUT MISSION IS LAME\", \"MANKIND MUST LIVE IN HARMONY WITH ONE ANOTHER.\", \"WHEN I GET A LITTLE MONEY I BUY BOOKS AND IF ANY IS LEFT I BUY FOOD AND CLOTHES.\", \"GUILO, ALTHOUGH A LAWYER, NEVER LIED; AT LEAST NOT TO HIS FRIENDS.\", \"BETTER LIVE THAN DEAD.\", \"BE AWAKE AND ARISE TO FULFILL YOUR DREAMS.\", \"OUR LIFE STORIES ARE AT ONE AND THE SAME TIME REALITY, FALLACY AND FANTASY...\", \"RECESSION IS WHEN A NEIGHBOR LOSES HIS JOB. DEPRESSION IS WHEN YOU LOSE YOURS.\", \"WE WORRY ABOUT MANY THINGS. AND PRAY ABOUT FEW THINGS.\", \"SOMETIMES NATURE IS EVEN CRUELLER THAN POLITICS.\", \"THE DEAD HAVE HIGHWAYS.\\\\\" CLIVE BARKER\", \"OUR ASSUMPTIONS OF PLAYING \\\\\"GODS\\\\\" COULD LEAD TO OUR OWN IGNORANCE.\", \"EVEN THE BRAVEST OF US LOATH WAR, AND THOSE WHO LONG FOR IT ARE THE MOST DANGEROUS.\", \"HONEST PEOPLE ARE NEVER TOUCHY ABOUT THE MATTER OF BEING TRUSTED.\", \"IF THEY DON\\'T APPRECIATE YOUR PRESENCE, THEY MAY NEVER RECOGNIZE YOUR ABSENCE.\", \"TODAY IS A BEAUTIFUL DAY. THANK YOU!\", \"ACTION MAY NOT ALWAYS BRING HAPPINESS  BUT THERE IS NO HAPPINESS WITHOUT ACTION.\", \"BE AFRAID OF NOTHING BUT BE AWARE OF EVERYTHING.\", \"ONE CANNOT HAVE A FUTURE IF HE DOES NOT SERVE GOD, THE ONE AND ONLY GOD\", \"IF YOU WANT AN ACCOUNTING OF YOUR WORTH  COUNT YOUR FRIENDS.\", \"I LOVE TO SEE THE SUNSHINE ON THE WINGS OF THE DRAGONFLIES... THERE IS MAGIC IN IT.\", \"BETTER TO HAVE TOO MUCH TIME TO MANAGE, THAN TOO MUCH MONEY THAT MANAGES ALL YOUR TIME\", \"STOP WHATEVER IS HINDERING YOU AND DISCOVER WHO YOU ARE\", \"TO BE ABLE TO LOOK BACK UPON ONE\\'S PAST LIFE WITH SATISFACTION IS TO LIVE TWICE.\", \"LIVE FOR THE LOVERS, NOT THE HATERS!\", \"LOVE NEVER DIES OF STARVATION  BUT OFTEN OF INDIGESTION.\", \"GOOD AIMS NOT ALWAYS MAKE GOOD BOOKS.\", \"ALONG WITH SUCCESS COMES A REPUTATION FOR WISDOM.\", \"I WANNA BE FOREVER YOUNG.\", \"INNER PEACE GIVES CALMNESS OF SOUL.\", \" LIFE IS LIKE A FRESH DAY, DEATH IS THE NIGHT WHEN THE DAY ENDS.\", \"I AM AN ATHEIST. I DON\\'T BELIEVE IN ZEUS.\", \"I LOVE YOU, BUT I\\\\u2019M MORE IN LOVE WITH MYSELF AND THAT\\\\u2019S THE PROBLEM.\", \"TAKE CONTROL. YOU ARE A STRONG, INDEPENDENT WOMAN.\", \"I WAS ADORED ONCE TOO.\", \"CELEBRATE THE SUCCESS OF OTHERS AND THEY WILL BE HAPPY TO SEE YOU SUCCEED.\", \"THE BORING THING ABOUT BEING INTERESTING IS THAT YOU BORE BORING PEOPLE.\", \"BOLD COURAGE IS PARALYZING FEAR AFTER HUMBLE PRAYER.\", \"UNDER TUNISIAN LAW, A WOMAN CAN DIVORCE HER HUSBAND. TOTAL EQUALITY.\", \"THE TOOLS THAT WOULD TEACH MEN THEIR OWN USE WOULD BE BEYOND PRICE.\", \"WE CHART DELUSIONS THROUGH COLLECTIVE AGREEMENT.\", \"HABITUAL IDENTIFICATION WITH DISCURSIVE THOUGHT IS THE SOURCE OF HUMAN SUFFERING\", \"WE ARE LIKE TRAVELERS USING THE CINDERS OF A VOLCANO TO ROAST THEIR EGGS.\", \"WHAT A CURIOUS POWER WORDS HAVE.\", \"GOD IS IN HEAVEN  AND THOU UPON EARTH: THEREFORE LET THY WORDS BE FEW.\", \"NOTHING IS MORE ATTRACTIVE THAN BEING YOUR AUTHENTIC SELF!\", \"IF YOU DON\\'T KNOW EXACTLY WHAT YOU WANT, THAT IS EXACTLY WHAT YOU WILL GET.\", \"PASSION FOR BOOKS IS PLEASURABLE.\", \"THE MORE YOU GIVE, THE MORE YOU WILL HAVE TO GIVE.\", \"YOU WILL HAVE TO DEFY THE ODDS, FOR YOU TO BECOME EXTRAORDINARY.\", \"YOU KNOW, I SOMETIMES THINK THAT WE SORT TOO SOON....\", \"WHOEVER ANGERS YOU, MASTERS YOU.\", \"A STRONG PERSON FORGIVES EVEN THE MOST UNFORGIVABLE.\", \"KEEP TRYING! YOU WILL SUCCEED AT THE SACRED TIME.\", \"HE WAS BEAUTIFUL AND STILL IS, WE JUST COULDN\\\\u2019T FLOW WITHIN THE SAME CONSTELLATION.\", \"DON\\'T JUST FOLLOW THE LINE. TO BE A STAR - SHINE!\", \"YOU\\\\u2019RE CANDY TO HER. SOMETHING SWEET, BUT NONESSENTIAL.\", \"FIRST, ACCEPT SADNESS. REALIZE THAT WITHOUT LOSING, WINNING ISN\\'T SO GREAT.\", \"YOU TAKE A DICK AND YOU GET IT WET AND THEN YOU PUT IT SOMEPLACE TIGHT\\\\u2014\", \"DELIBERATELY SEEK OPPORTUNITIES FOR KINDNESS, SYMPATHY, AND PATIENCE.\", \"A GUILTY CONSCIENCE NEEDS TO CONFESS. A WORK OF ART IS A CONFESSION.\", \"99 PERCENT OF ALL STATISTICS ONLY TELL 49 PERCENT OF THE STORY.\", \"...YOU NEED TO TRAVEL TO SEE THE OCEAN - I DON\\'T NEED THE OCEAN - I HAVE THE SKY...\", \"THE MORE YOU KNOW, THE LESS YOU NEED.\", \"WHEN WE LIVE HOLY WE WILL GLORIFY SELF BUT WHEN WE GLORIFY GOD WE WILL LIVE HOLY\", \"WHEN YOU STRETCH THE TRUTH, WATCH OUT FOR THE SNAPBACK.\", \"BETTER NAIVE AND FEARLESS THAN SMART AND ANXIOUS.\", \"IF YOU SEE YOURSELF AS A MAN, NO ONE WILL DARE TO SEE YOU AS A KID.\", \"WHEN MORTALS DISCUSS ABOUT THE ETERNITY,CONCLUSIVELY IT WILL BE A LIFETIME DISCUSSION.\", \"SEX IS NOT LOVE AND LOVE IS NOT SEX\", \"I\\'VE NEVER BOUGHT A SPORTS CAR.\", \"BUT VAIN TO POPULARIZE PROFUNDITIES, AND ALL TRUTH IS PROFOUND.\", \"EXPERIENCE TELLS ME HABITS ARE STRONGER THAN LOVE, FEAR, AND NECESSITY. \", \"GOD WILL OPEN HIS TRUTHS AND HIS SECRET TO US SO THAT WE CAN HAVE SUCCESS\", \"WHAT DRIVES SUCCESS, AND THE MOST SUCCESSFUL STUDENTS, IS INTERNAL MOTIVATION.\", \"YOUTHFUL PERIOD IS THE TIME TO MAKE MANFUL PERIOD EFFECTIVE AND WORTH LIVING\", \"SEEK TO DO GOOD  AND YOU WILL FIND THAT HAPPINESS WILL RUN AFTER YOU.\", \"EVERY INDIVIDUAL IS UNIQUE WITH UNIQUE TALENTS.\", \"WE WHO DETERMINE HOW QUICKLY TIME PASSES.\", \"I WISH I COULD SEE A CHERRY BLOSSOM OR A LOTUS FLOWER. WHERE COULD THEY BE?\", \"MEOW!\\\\\" SAID THE CHICKEN.\", \"THE EARTH GRIEVES, AND I GRIEVE, AND I AM WEARY OF THE FIGHT\", \"BUT MY EAGERNESS TO SACRIFICE LITTLE CHILDREN IN ORDER TO SAVE MANKIND IS WEARING THIN.\", \"AN INVESTMENT IN KNOWLEDGE PAYS THE BEST INTEREST.\", \"A CENTRE OF RACISM IS A POINT OF PAIN, A POINT OF NO JUSTICE AND A HOUSE OF OPPRESSION.\", \"A STALE MIND IS THE DEVIL\\'S BREADBOX.\", \"WHEN EVIL ALTARS ARE INVOKED, GREAT DESTINIES ARE ALTERED\", \"WITH JUST A LITTLE DROP OF KINDNESS YOU CAN WATER A WHOLE GARDEN.\", \"I BURN, I SHIVER, OUT OF THIS SUN, INTO THIS SHADOW.\", \"I\\'M NOT AFRAID TO DIE.\", \"MAYBE THE TRUTH IS I REALLY WANT TO LIKE YOU INSTEAD.\", \"IT IS A WICKED SOPHISTRY TO JUSTIFY THE WORLDLINESS OF THE CHURCH BY THE CROSS OF CHRIST.\", \"I NEVER LOST MONEY BY TURNING A PROFIT.\", \"SHE WAS ALWAYS WAITING, IT SEEMED TO BE HER FORTE.\", \"I\\'M THE MOST GREGARIOUS OF MEN AND LOVE GOOD COMPANY, BUT NEVER LESS ALONE WHEN ALONE.\", \"YOU NEED TO STEP OUT TO BUILD BEFORE GOD COULD BLESS WHAT YOU ARE BUILDING\", \"LOVE LIFE, LOVE LIGHT.\", \"WHAT IS A JOURNEYWITHOUT SOMEONE WHO WANDERSIF SOMETIMES A PAIRIS MADE OF TWO\", \"...UNLIKE KNOWLEDGE, UNDERSTANDING CANNOT BE TAUGHT. IT MUST BE ACHIEVED.\", \"THERE IS NO WEALTH LIKE KNOWLEDGE, NO POVERTY LIKE IGNORANCE.\", \"PRETTY WOMEN WITH NO SOUL LIKE PAINTINGS ON THE WALL\", \"WE ARE ACCOUNTABLE TO [GOD] FOR THE WAY WE USE OUR TIME.\", \"SEIZE OPPORTUNITY BY THE BEARD  FOR IT IS BALD BEHIND.\", \"COST LITTLE LESS THAN NEW BEFORE THEY\\'RE ENDED.\", \"THROUGH YOUR IDEAS, YOU OPEN THE WINDOW OF YOUR MIND AND SAY A HELLO TO THE WORLD.\", \"WHO IS THIS REPULSIVE DWARF?\", \"WHATEVER YOU DO TODAY, IMPACTS YOUR HISTORICITY.\", \"BEFORE HURTING OTHERS, FEEL THE PAIN YOU WILL INFLICT ON OTHERS.\", \"THE REAL BUSINESS OF LIFE IS TRYING TO UNDERSTAND EACH OTHER.\", \"SPEECH IS THE DEADLIEST OF REVEALERS.\\' - HERCULE POIROT, CARDS ON THE TABLE\", \"WILLFULNESS MUST GIVE WAY TO WILLINGNESS AND SURRENDER. MASTERY MUST YIELD TO MYSTERY.\", \"ALL DESIRE, TRACY HAD HAD OCCASION SINCE TO THINK, IS TO SOME DEGREE MONSTROUS.\", \"EVERTHING-ABSOLUTELY EVERYTHING-WILL BE MY I LOVE YOU, EPPIE.\", \"POLITENESS GOES FAR  YET COSTS NOTHING.\", \"MY SUCCESS ISN\\'T A RESULT OF ARROGANCE - IT\\'S A RESULT OF BELIEF.\", \"IS IT A CRIME TO WANT TO BE GOOD? SHE CRIED\", \"LOVE ISN\\'T LOVE UNTIL SOMEONE MAKES A MISTAKE.\", \"ONLY LOVE THAT STANDS TALL IN ALL CONDITION IS THE UNCONDITIONAL ONE.\", \"IT\\\\u2019S NOT LOST ON ME THAT I\\\\u2019M SO BUSY RECORDING LIFE, I DON\\\\u2019T HAVE TIME TO REALLY LIVE IT.\", \"DEFINE YOUR MANTRAS, YOUR ADAGES, AND BEAR DOWN REPETITIVELY -- OVER AND OVER AND OVER!\", \"SELF-ACCEPTANCE IS THE BASIS OF A HAPPY LIFE.\", \"IF YOU CAN\\'T READ, IT\\'S GOING TO BE HARD TO REALIZE DREAMS.\", \"YOUR SELF ESTEEM IS LIKE A NOTCH BELOW KAFKA\\'S.\", \"WE ARE NOT WORSHIPPING ANYONE OR ANYTHING, WE ARE SIMPLY COMMUNING WITH CREATION.\", \"IN FACT-DR. SHEPPARD!\", \"THE ONLY THING TO KNOW IS HOW TO USE YOUR NEUROSES.\", \"RELIGION IS THE OPIUM OF THE PEOPLE.\", \"TRUE ENEMIES AREN\\'T ALWAYS THE ONES WHO HATE EACH OTHER.\", \"WOMEN AND FICTION REMAIN, SO FAR AS I AM CONCERNED, UNSOLVED PROBLEMS.\", \"TO LIVE IS TO CHANGE  AND TO BE PERFECT IS TO CHANGE OFTEN.\", \"OF COURSE WE\\'LL WIN. AND EVEN IF WE WERE TO LOSE, WE\\'D WIN AT LOSING.\", \"THERE ARE NO WINNERS IN REAL GAMES.\", \"LIFE DOESN\\'T REVOLVE AROUND YOUIT REVOLVES AROUND THOSE YOU LOVE\", \"KEEPING YOUR HEART OPEN PROVIDES THE OPPORTUNITY FOR GREATER INTIMACY.\", \"CHECKED THOROUGHLY, HUMANS STINK.\", \"DON\\'T DILUTE YOUR CORE MESSAGE BURNING IN YOUR SPIRIT JUST TO SATISFY THE MASSES\", \"TO HOLD POWER IN THIS WORLD IS TO KNOW THINGS THAT OTHERS DO NOT WANT TO KNOW.\", \"THINGS TURN OUT BEST FOR THE PEOPLE WHO MAKE THE BEST OF THE WAY THINGS TURN OUT.\", \"THE IMPORTANT THING TO REMEMBER ABOUT MATHEMATICS IS NOT TO BE FRIGHTENED\", \"THIS JOURNEY HAS NOURISHED MY SOUL IN A WAY I COULDN\\'T HAVE IMAGINED.\", \"WAR KILLS EVERYBODY, INCLUDING THE ONES WHO LIVE.\", \"NOBODY EVER DROWNED IN THEIR OWN SWEAT.\", \"ANY HALFWAY CLEVER DEVIL WOULD DECORATE THE HIGHWAY TO HELL AS BEAUTIFUL AS POSSIBLE.\"]}'"
      ]
     },
     "execution_count": 27,
     "metadata": {},
     "output_type": "execute_result"
    }
   ],
   "source": [
    "#json.dumps(data)"
   ]
  },
  {
   "cell_type": "code",
   "execution_count": null,
   "id": "9f14a4b0-f65b-4788-ab2e-c043e3e6cd11",
   "metadata": {},
   "outputs": [],
   "source": []
  }
 ],
 "metadata": {
  "kernelspec": {
   "display_name": "Python 3 (ipykernel)",
   "language": "python",
   "name": "python3"
  },
  "language_info": {
   "codemirror_mode": {
    "name": "ipython",
    "version": 3
   },
   "file_extension": ".py",
   "mimetype": "text/x-python",
   "name": "python",
   "nbconvert_exporter": "python",
   "pygments_lexer": "ipython3",
   "version": "3.9.13"
  }
 },
 "nbformat": 4,
 "nbformat_minor": 5
}
